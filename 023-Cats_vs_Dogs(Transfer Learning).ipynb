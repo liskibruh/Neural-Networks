{
 "cells": [
  {
   "cell_type": "markdown",
   "id": "e1a50aa1",
   "metadata": {},
   "source": [
    "# Transfer Learning"
   ]
  },
  {
   "cell_type": "code",
   "execution_count": 1,
   "id": "59637408",
   "metadata": {},
   "outputs": [
    {
     "name": "stdout",
     "output_type": "stream",
     "text": [
      "Downloading data from https://storage.googleapis.com/tensorflow/keras-applications/vgg16/vgg16_weights_tf_dim_ordering_tf_kernels_notop.h5\n",
      "58889256/58889256 [==============================] - 109s 2us/step\n"
     ]
    }
   ],
   "source": [
    "#instantiating the vgg16 convolutional base\n",
    "from keras.applications import VGG16\n",
    "\n",
    "conv_base = VGG16(weights='imagenet', include_top=False,\n",
    "                 input_shape=(150,150,3))"
   ]
  },
  {
   "cell_type": "markdown",
   "id": "8499b533",
   "metadata": {},
   "source": [
    "- weights specifies the weight checkpoint from which to initialize the model. \n",
    "- include_top refers to including (or not) the densely connected classifier on top of the network. By default, this densely connected classifier corresponds to the 1,000 classes from ImageNet. Because you intend to use your own densely connected classifier (with only two classes: cat and dog), you don’t need to include it.\n",
    "- input_shape is the shape of the image tensors that you’ll feed to the network. This argument is purely optional: if you don’t pass it, the network will be able to\n",
    "process inputs of any size"
   ]
  },
  {
   "cell_type": "code",
   "execution_count": 2,
   "id": "9030114e",
   "metadata": {},
   "outputs": [
    {
     "name": "stdout",
     "output_type": "stream",
     "text": [
      "Model: \"vgg16\"\n",
      "_________________________________________________________________\n",
      " Layer (type)                Output Shape              Param #   \n",
      "=================================================================\n",
      " input_1 (InputLayer)        [(None, 150, 150, 3)]     0         \n",
      "                                                                 \n",
      " block1_conv1 (Conv2D)       (None, 150, 150, 64)      1792      \n",
      "                                                                 \n",
      " block1_conv2 (Conv2D)       (None, 150, 150, 64)      36928     \n",
      "                                                                 \n",
      " block1_pool (MaxPooling2D)  (None, 75, 75, 64)        0         \n",
      "                                                                 \n",
      " block2_conv1 (Conv2D)       (None, 75, 75, 128)       73856     \n",
      "                                                                 \n",
      " block2_conv2 (Conv2D)       (None, 75, 75, 128)       147584    \n",
      "                                                                 \n",
      " block2_pool (MaxPooling2D)  (None, 37, 37, 128)       0         \n",
      "                                                                 \n",
      " block3_conv1 (Conv2D)       (None, 37, 37, 256)       295168    \n",
      "                                                                 \n",
      " block3_conv2 (Conv2D)       (None, 37, 37, 256)       590080    \n",
      "                                                                 \n",
      " block3_conv3 (Conv2D)       (None, 37, 37, 256)       590080    \n",
      "                                                                 \n",
      " block3_pool (MaxPooling2D)  (None, 18, 18, 256)       0         \n",
      "                                                                 \n",
      " block4_conv1 (Conv2D)       (None, 18, 18, 512)       1180160   \n",
      "                                                                 \n",
      " block4_conv2 (Conv2D)       (None, 18, 18, 512)       2359808   \n",
      "                                                                 \n",
      " block4_conv3 (Conv2D)       (None, 18, 18, 512)       2359808   \n",
      "                                                                 \n",
      " block4_pool (MaxPooling2D)  (None, 9, 9, 512)         0         \n",
      "                                                                 \n",
      " block5_conv1 (Conv2D)       (None, 9, 9, 512)         2359808   \n",
      "                                                                 \n",
      " block5_conv2 (Conv2D)       (None, 9, 9, 512)         2359808   \n",
      "                                                                 \n",
      " block5_conv3 (Conv2D)       (None, 9, 9, 512)         2359808   \n",
      "                                                                 \n",
      " block5_pool (MaxPooling2D)  (None, 4, 4, 512)         0         \n",
      "                                                                 \n",
      "=================================================================\n",
      "Total params: 14,714,688\n",
      "Trainable params: 14,714,688\n",
      "Non-trainable params: 0\n",
      "_________________________________________________________________\n"
     ]
    }
   ],
   "source": [
    "conv_base.summary()"
   ]
  },
  {
   "cell_type": "markdown",
   "id": "06475053",
   "metadata": {},
   "source": [
    "The final feature map has shape (4, 4, 512). That’s the feature on top of which you’ll stick a densely connected classifier. \n",
    "\n",
    "At this point, there are two ways you could proceed: \n",
    "1. Running the convolutional base over your dataset, recording its output to a Numpy array on disk, and then using this data as input to a standalone, densely connected classifier similar to those you saw in part 1 of this book. This solution is fast and cheap to run, because it only requires running the convolutional base once for every input image, and the convolutional base is by far the most expensive part of the pipeline. But for the same reason, this technique won’t allow you to use data augmentation.\n",
    "\n",
    "2. Extending the model you have (conv_base) by adding Dense layers on top, and running the whole thing end to end on the input data. This will allow you to use data augmentation, because every input image goes through the convolutional base every time it’s seen by the model. But for the same reason, this technique is far more expensive than the first."
   ]
  },
  {
   "cell_type": "markdown",
   "id": "6b3fb308",
   "metadata": {},
   "source": [
    "## Feature Extraction without data augmentation"
   ]
  },
  {
   "cell_type": "code",
   "execution_count": 3,
   "id": "bc8dfbbe",
   "metadata": {},
   "outputs": [],
   "source": [
    "import os\n",
    "import numpy as np\n",
    "from tensorflow.keras.preprocessing.image import ImageDataGenerator\n",
    "\n",
    "base_dir = \"cats_and_dogs_small\"\n",
    "train_dir = os.path.join(base_dir,\"train\")\n",
    "validation_dir = os.path.join(base_dir, \"validation\")\n",
    "test_dir = os.path.join(base_dir, \"test\")\n",
    "\n",
    "datagen = ImageDataGenerator(rescale=1./255)\n",
    "batch_size = 20"
   ]
  },
  {
   "cell_type": "code",
   "execution_count": 8,
   "id": "46276609",
   "metadata": {},
   "outputs": [],
   "source": [
    "def extract_features(directory, sample_count):\n",
    "    features = np.zeros(shape=(sample_count, 4, 4, 512))\n",
    "    labels = np.zeros(shape=(sample_count))\n",
    "    \n",
    "    generator = datagen.flow_from_directory(\n",
    "        directory,\n",
    "        target_size=(150,150),\n",
    "        batch_size=batch_size,\n",
    "        class_mode='binary'\n",
    "    )\n",
    "    \n",
    "    i=0\n",
    "    for inputs_batch, labels_batch in generator:\n",
    "        features_batch = conv_base.predict(inputs_batch) #run image through the vgg16 base\n",
    "        features[i*batch_size:(i+1)*batch_size] = features_batch #sore the extracted features\n",
    "        labels[i*batch_size:(i+1)*batch_size] = labels_batch #store the corresponding label\n",
    "        i+=1\n",
    "        \n",
    "        #generators yield data indefinitely, you must break after every image has been seen once\n",
    "        if i*batch_size >= sample_count:\n",
    "            break\n",
    "        \n",
    "        return features, labels"
   ]
  },
  {
   "cell_type": "code",
   "execution_count": 9,
   "id": "9dda6691",
   "metadata": {},
   "outputs": [
    {
     "name": "stdout",
     "output_type": "stream",
     "text": [
      "Found 2000 images belonging to 2 classes.\n",
      "1/1 [==============================] - 2s 2s/step\n",
      "Found 1000 images belonging to 2 classes.\n",
      "1/1 [==============================] - 1s 870ms/step\n",
      "Found 1000 images belonging to 2 classes.\n",
      "1/1 [==============================] - 1s 903ms/step\n"
     ]
    }
   ],
   "source": [
    "train_features, train_labels = extract_features(train_dir,2000)\n",
    "validation_features, validation_labels = extract_features(validation_dir, 1000)\n",
    "test_features, test_labels = extract_features(test_dir,1000)"
   ]
  },
  {
   "cell_type": "markdown",
   "id": "dfdeaead",
   "metadata": {},
   "source": [
    "The extracted features are currently of shape (samples, 4, 4, 512). You’ll feed them to a densely connected classifier, so first you must flatten them to (samples, 8192)"
   ]
  },
  {
   "cell_type": "code",
   "execution_count": 10,
   "id": "16b5c03d",
   "metadata": {},
   "outputs": [],
   "source": [
    "train_features = np.reshape(train_features, (2000, 4*4*512))\n",
    "validation_features = np.reshape(validation_features, (1000, 4*4*512))\n",
    "test_features = np.reshape(test_features, (1000, 4*4*512))"
   ]
  },
  {
   "cell_type": "markdown",
   "id": "0a70ed0c",
   "metadata": {},
   "source": [
    "At this point, you can define your densely connected classifier (note the use of dropout for regularization) and train it on the data and labels that you just recorded."
   ]
  },
  {
   "cell_type": "code",
   "execution_count": 13,
   "id": "abf320b3",
   "metadata": {},
   "outputs": [
    {
     "name": "stdout",
     "output_type": "stream",
     "text": [
      "Epoch 1/30\n",
      "100/100 [==============================] - 3s 25ms/step - loss: 0.6897 - acc: 0.9955 - val_loss: 0.6861 - val_acc: 0.9910\n",
      "Epoch 2/30\n",
      "100/100 [==============================] - 2s 24ms/step - loss: 0.6824 - acc: 0.9960 - val_loss: 0.6788 - val_acc: 0.9920\n",
      "Epoch 3/30\n",
      "100/100 [==============================] - 2s 22ms/step - loss: 0.6747 - acc: 0.9970 - val_loss: 0.6702 - val_acc: 0.9910\n",
      "Epoch 4/30\n",
      "100/100 [==============================] - 2s 22ms/step - loss: 0.6639 - acc: 0.9985 - val_loss: 0.6601 - val_acc: 0.9940\n",
      "Epoch 5/30\n",
      "100/100 [==============================] - 2s 22ms/step - loss: 0.6549 - acc: 0.9995 - val_loss: 0.6529 - val_acc: 0.9930\n",
      "Epoch 6/30\n",
      "100/100 [==============================] - 2s 21ms/step - loss: 0.6473 - acc: 0.9975 - val_loss: 0.6420 - val_acc: 0.9950\n",
      "Epoch 7/30\n",
      "100/100 [==============================] - 2s 24ms/step - loss: 0.6364 - acc: 0.9985 - val_loss: 0.6341 - val_acc: 0.9930\n",
      "Epoch 8/30\n",
      "100/100 [==============================] - 2s 23ms/step - loss: 0.6280 - acc: 0.9970 - val_loss: 0.6244 - val_acc: 0.9920\n",
      "Epoch 9/30\n",
      "100/100 [==============================] - 2s 23ms/step - loss: 0.6179 - acc: 0.9985 - val_loss: 0.6143 - val_acc: 0.9930\n",
      "Epoch 10/30\n",
      "100/100 [==============================] - 2s 23ms/step - loss: 0.6069 - acc: 0.9990 - val_loss: 0.6044 - val_acc: 0.9930\n",
      "Epoch 11/30\n",
      "100/100 [==============================] - 2s 24ms/step - loss: 0.5970 - acc: 0.9995 - val_loss: 0.5941 - val_acc: 0.9930\n",
      "Epoch 12/30\n",
      "100/100 [==============================] - 2s 23ms/step - loss: 0.5868 - acc: 0.9990 - val_loss: 0.5838 - val_acc: 0.9930\n",
      "Epoch 13/30\n",
      "100/100 [==============================] - 2s 24ms/step - loss: 0.5766 - acc: 0.9995 - val_loss: 0.5732 - val_acc: 0.9930\n",
      "Epoch 14/30\n",
      "100/100 [==============================] - 2s 24ms/step - loss: 0.5664 - acc: 0.9990 - val_loss: 0.5630 - val_acc: 0.9940\n",
      "Epoch 15/30\n",
      "100/100 [==============================] - 2s 24ms/step - loss: 0.5549 - acc: 0.9995 - val_loss: 0.5522 - val_acc: 0.9930\n",
      "Epoch 16/30\n",
      "100/100 [==============================] - 3s 25ms/step - loss: 0.5436 - acc: 1.0000 - val_loss: 0.5398 - val_acc: 0.9970\n",
      "Epoch 17/30\n",
      "100/100 [==============================] - 2s 24ms/step - loss: 0.5318 - acc: 1.0000 - val_loss: 0.5296 - val_acc: 0.9940\n",
      "Epoch 18/30\n",
      "100/100 [==============================] - 2s 22ms/step - loss: 0.5214 - acc: 0.9995 - val_loss: 0.5181 - val_acc: 0.9960\n",
      "Epoch 19/30\n",
      "100/100 [==============================] - 2s 24ms/step - loss: 0.5113 - acc: 0.9995 - val_loss: 0.5085 - val_acc: 0.9940\n",
      "Epoch 20/30\n",
      "100/100 [==============================] - 3s 25ms/step - loss: 0.4988 - acc: 1.0000 - val_loss: 0.4960 - val_acc: 0.9950\n",
      "Epoch 21/30\n",
      "100/100 [==============================] - 3s 25ms/step - loss: 0.4878 - acc: 1.0000 - val_loss: 0.4847 - val_acc: 0.9950\n",
      "Epoch 22/30\n",
      "100/100 [==============================] - 2s 25ms/step - loss: 0.4754 - acc: 0.9995 - val_loss: 0.4732 - val_acc: 0.9950\n",
      "Epoch 23/30\n",
      "100/100 [==============================] - 3s 25ms/step - loss: 0.4636 - acc: 1.0000 - val_loss: 0.4615 - val_acc: 0.9960\n",
      "Epoch 24/30\n",
      "100/100 [==============================] - 3s 25ms/step - loss: 0.4526 - acc: 1.0000 - val_loss: 0.4494 - val_acc: 0.9960\n",
      "Epoch 25/30\n",
      "100/100 [==============================] - 2s 24ms/step - loss: 0.4401 - acc: 1.0000 - val_loss: 0.4388 - val_acc: 0.9950\n",
      "Epoch 26/30\n",
      "100/100 [==============================] - 2s 25ms/step - loss: 0.4281 - acc: 1.0000 - val_loss: 0.4271 - val_acc: 0.9950\n",
      "Epoch 27/30\n",
      "100/100 [==============================] - 2s 21ms/step - loss: 0.4171 - acc: 1.0000 - val_loss: 0.4164 - val_acc: 0.9960\n",
      "Epoch 28/30\n",
      "100/100 [==============================] - 2s 23ms/step - loss: 0.4063 - acc: 1.0000 - val_loss: 0.4055 - val_acc: 0.9960\n",
      "Epoch 29/30\n",
      "100/100 [==============================] - 2s 22ms/step - loss: 0.3934 - acc: 1.0000 - val_loss: 0.3945 - val_acc: 0.9950\n",
      "Epoch 30/30\n",
      "100/100 [==============================] - 2s 23ms/step - loss: 0.3818 - acc: 1.0000 - val_loss: 0.3819 - val_acc: 0.9960\n"
     ]
    }
   ],
   "source": [
    "#defining and training the densely connected classifier\n",
    "from keras import models, layers, optimizers\n",
    "\n",
    "model = models.Sequential()\n",
    "\n",
    "model.add(layers.Dense(256, activation='relu', input_dim=4*4*512))\n",
    "model.add(layers.Dropout(0.5))\n",
    "model.add(layers.Dense(1, activation='sigmoid'))\n",
    "\n",
    "model.compile(optimizer=optimizers.RMSprop(learning_rate=2e-5),\n",
    "             loss='binary_crossentropy',\n",
    "             metrics=['acc'])\n",
    "\n",
    "history = model.fit(train_features, train_labels,\n",
    "                   epochs=30, batch_size=20,\n",
    "                   validation_data=(validation_features, validation_labels))"
   ]
  },
  {
   "cell_type": "markdown",
   "id": "eecd3c35",
   "metadata": {},
   "source": [
    "Training is very fast, because you only have to deal with two Dense layers—an epoch takes less than one second even on CPU.\n",
    "\n",
    "Let’s look at the loss and accuracy curves during training"
   ]
  },
  {
   "cell_type": "code",
   "execution_count": 14,
   "id": "e8b4fa86",
   "metadata": {},
   "outputs": [
    {
     "data": {
      "image/png": "[encoded data removed]",
      "text/plain": [
       "<Figure size 640x480 with 1 Axes>"
      ]
     },
     "metadata": {},
     "output_type": "display_data"
    },
    {
     "data": {
      "image/png": "[encoded data removed]",
      "text/plain": [
       "<Figure size 640x480 with 1 Axes>"
      ]
     },
     "metadata": {},
     "output_type": "display_data"
    }
   ],
   "source": [
    "#plotting the results\n",
    "import matplotlib.pyplot as plt \n",
    "\n",
    "acc = history.history['acc'] \n",
    "val_acc = history.history['val_acc'] \n",
    "loss = history.history['loss'] \n",
    "val_loss = history.history['val_loss']\n",
    "epochs = range(1, len(acc) + 1)\n",
    "\n",
    "plt.plot(epochs, acc, 'bo', label='Training acc') \n",
    "plt.plot(epochs, val_acc, 'b', label='Validation acc') \n",
    "plt.title('Training and validation accuracy') \n",
    "plt.legend()\n",
    "plt.figure()\n",
    "\n",
    "plt.plot(epochs, loss, 'bo', label='Training loss') \n",
    "plt.plot(epochs, val_loss, 'b', label='Validation loss') \n",
    "plt.title('Training and validation loss') \n",
    "plt.legend()\n",
    "plt.show()"
   ]
  },
  {
   "cell_type": "markdown",
   "id": "69b26b2f",
   "metadata": {},
   "source": [
    "Based on the given information, it's difficult to determine whether the model is overfitting or not. We can see that the training accuracy is very high, but the validation accuracy is also quite high, which suggests that the model is performing well on both the training and validation data. "
   ]
  },
  {
   "cell_type": "markdown",
   "id": "b70c48f5",
   "metadata": {},
   "source": [
    "## Testing model on unseen data"
   ]
  },
  {
   "cell_type": "code",
   "execution_count": 22,
   "id": "d54546f0",
   "metadata": {},
   "outputs": [
    {
     "name": "stdout",
     "output_type": "stream",
     "text": [
      "Model: \"sequential\"\n",
      "_________________________________________________________________\n",
      " Layer (type)                Output Shape              Param #   \n",
      "=================================================================\n",
      " dense (Dense)               (None, 256)               2097408   \n",
      "                                                                 \n",
      " dropout (Dropout)           (None, 256)               0         \n",
      "                                                                 \n",
      " dense_1 (Dense)             (None, 1)                 257       \n",
      "                                                                 \n",
      "=================================================================\n",
      "Total params: 2,097,665\n",
      "Trainable params: 2,097,665\n",
      "Non-trainable params: 0\n",
      "_________________________________________________________________\n"
     ]
    }
   ],
   "source": [
    "model.summary()"
   ]
  },
  {
   "cell_type": "code",
   "execution_count": 18,
   "id": "e6edbae5",
   "metadata": {},
   "outputs": [],
   "source": [
    "#cat images dir\n",
    "cats_dir = os.path.join(test_dir,\"cats\")\n",
    "#dog images dir\n",
    "dogs_dir = os.path.join(test_dir,\"dogs\")"
   ]
  },
  {
   "cell_type": "markdown",
   "id": "f38a3c3d",
   "metadata": {},
   "source": [
    "**Checking prediction for a dog image. Correct prediction output would be dog**"
   ]
  },
  {
   "cell_type": "code",
   "execution_count": 92,
   "id": "8611a9f7",
   "metadata": {},
   "outputs": [
    {
     "data": {
      "text/plain": [
       "(150, 150, 3)"
      ]
     },
     "execution_count": 92,
     "metadata": {},
     "output_type": "execute_result"
    }
   ],
   "source": [
    "file_names = os.listdir(dogs_dir)\n",
    "\n",
    "img_path = os.path.join(dogs_dir, file_names[0])\n",
    "img = image.load_img(img_path, target_size=(150, 150))\n",
    "img_array = image.img_to_array(img)\n",
    "img_array_rescaled = img_array / 255.0\n",
    "img_array_rescaled.shape"
   ]
  },
  {
   "cell_type": "code",
   "execution_count": 93,
   "id": "49a8dace",
   "metadata": {},
   "outputs": [
    {
     "data": {
      "text/plain": [
       "'dog.1500.jpg'"
      ]
     },
     "execution_count": 93,
     "metadata": {},
     "output_type": "execute_result"
    }
   ],
   "source": [
    "file_names[0]"
   ]
  },
  {
   "cell_type": "code",
   "execution_count": 94,
   "id": "db8dbc11",
   "metadata": {},
   "outputs": [
    {
     "data": {
      "text/plain": [
       "(1, 150, 150, 3)"
      ]
     },
     "execution_count": 94,
     "metadata": {},
     "output_type": "execute_result"
    }
   ],
   "source": [
    "img_array_prepd=np.expand_dims(img_array_rescaled, axis=0)\n",
    "img_array_prepd.shape"
   ]
  },
  {
   "cell_type": "code",
   "execution_count": 95,
   "id": "cfbe2f2e",
   "metadata": {},
   "outputs": [
    {
     "name": "stdout",
     "output_type": "stream",
     "text": [
      "1/1 [==============================] - 0s 107ms/step\n"
     ]
    }
   ],
   "source": [
    "features = conv_base.predict(img_array_prepd)"
   ]
  },
  {
   "cell_type": "code",
   "execution_count": 96,
   "id": "436015db",
   "metadata": {},
   "outputs": [
    {
     "data": {
      "text/plain": [
       "(1, 4, 4, 512)"
      ]
     },
     "execution_count": 96,
     "metadata": {},
     "output_type": "execute_result"
    }
   ],
   "source": [
    "features.shape"
   ]
  },
  {
   "cell_type": "code",
   "execution_count": 97,
   "id": "01fca12c",
   "metadata": {},
   "outputs": [
    {
     "data": {
      "text/plain": [
       "(1, 8192)"
      ]
     },
     "execution_count": 97,
     "metadata": {},
     "output_type": "execute_result"
    }
   ],
   "source": [
    "features_reshaped = features.reshape(1, 4*4*512)\n",
    "features_reshaped.shape"
   ]
  },
  {
   "cell_type": "code",
   "execution_count": 102,
   "id": "df88ccca",
   "metadata": {},
   "outputs": [
    {
     "name": "stdout",
     "output_type": "stream",
     "text": [
      "1/1 [==============================] - 0s 26ms/step\n",
      "[[0.98007756]]\n",
      "Dog Image\n"
     ]
    }
   ],
   "source": [
    "# Make predictions using your trained model\n",
    "predictions = model.predict(features_reshaped)\n",
    "print(predictions)\n",
    "# print the predicted label\n",
    "if predictions > 0.5:\n",
    "    print('Dog Image')\n",
    "else:\n",
    "    print('Cat Image')"
   ]
  },
  {
   "cell_type": "markdown",
   "id": "5fcf4b7e",
   "metadata": {},
   "source": [
    "**For anyone who wants to replicate/use this code, I am not sure about the final results (and the training loss and accuracy curves), so just be aware of that**"
   ]
  }
 ],
 "metadata": {
  "kernelspec": {
   "display_name": "Python 3 (ipykernel)",
   "language": "python",
   "name": "python3"
  },
  "language_info": {
   "codemirror_mode": {
    "name": "ipython",
    "version": 3
   },
   "file_extension": ".py",
   "mimetype": "text/x-python",
   "name": "python",
   "nbconvert_exporter": "python",
   "pygments_lexer": "ipython3",
   "version": "3.9.16"
  }
 },
 "nbformat": 4,
 "nbformat_minor": 5
}
