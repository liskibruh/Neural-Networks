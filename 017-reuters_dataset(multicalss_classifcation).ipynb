{
 "cells": [
  {
   "cell_type": "markdown",
   "id": "2ebe19eb",
   "metadata": {},
   "source": [
    "# Multiclass Classification Problem"
   ]
  },
  {
   "cell_type": "code",
   "execution_count": 1,
   "id": "a081fadc",
   "metadata": {},
   "outputs": [
    {
     "name": "stdout",
     "output_type": "stream",
     "text": [
      "Downloading data from https://storage.googleapis.com/tensorflow/tf-keras-datasets/reuters.npz\n",
      "2110848/2110848 [==============================] - 2s 1us/step\n"
     ]
    }
   ],
   "source": [
    "# loading the reuters dataset\n",
    "from keras.datasets import reuters\n",
    "\n",
    "(train_data, train_labels), (test_data, test_labels) = reuters.load_data(num_words=10000)"
   ]
  },
  {
   "cell_type": "markdown",
   "id": "390bf2e2",
   "metadata": {},
   "source": [
    "The argument num_words=10000 restricts the data to the 10,000 most frequently occurring words found in the data."
   ]
  },
  {
   "cell_type": "code",
   "execution_count": 2,
   "id": "e52c630a",
   "metadata": {},
   "outputs": [
    {
     "data": {
      "text/plain": [
       "(8982, 2246)"
      ]
     },
     "execution_count": 2,
     "metadata": {},
     "output_type": "execute_result"
    }
   ],
   "source": [
    "len(train_data), len(test_data)"
   ]
  },
  {
   "cell_type": "markdown",
   "id": "d93058fb",
   "metadata": {},
   "source": [
    "Each example is a list of integers (word indices)"
   ]
  },
  {
   "cell_type": "code",
   "execution_count": 3,
   "id": "aa445052",
   "metadata": {},
   "outputs": [
    {
     "data": {
      "text/plain": [
       "[1,\n",
       " 2,\n",
       " 2,\n",
       " 8,\n",
       " 43,\n",
       " 10,\n",
       " 447,\n",
       " 5,\n",
       " 25,\n",
       " 207,\n",
       " 270,\n",
       " 5,\n",
       " 3095,\n",
       " 111,\n",
       " 16,\n",
       " 369,\n",
       " 186,\n",
       " 90,\n",
       " 67,\n",
       " 7,\n",
       " 89,\n",
       " 5,\n",
       " 19,\n",
       " 102,\n",
       " 6,\n",
       " 19,\n",
       " 124,\n",
       " 15,\n",
       " 90,\n",
       " 67,\n",
       " 84,\n",
       " 22,\n",
       " 482,\n",
       " 26,\n",
       " 7,\n",
       " 48,\n",
       " 4,\n",
       " 49,\n",
       " 8,\n",
       " 864,\n",
       " 39,\n",
       " 209,\n",
       " 154,\n",
       " 6,\n",
       " 151,\n",
       " 6,\n",
       " 83,\n",
       " 11,\n",
       " 15,\n",
       " 22,\n",
       " 155,\n",
       " 11,\n",
       " 15,\n",
       " 7,\n",
       " 48,\n",
       " 9,\n",
       " 4579,\n",
       " 1005,\n",
       " 504,\n",
       " 6,\n",
       " 258,\n",
       " 6,\n",
       " 272,\n",
       " 11,\n",
       " 15,\n",
       " 22,\n",
       " 134,\n",
       " 44,\n",
       " 11,\n",
       " 15,\n",
       " 16,\n",
       " 8,\n",
       " 197,\n",
       " 1245,\n",
       " 90,\n",
       " 67,\n",
       " 52,\n",
       " 29,\n",
       " 209,\n",
       " 30,\n",
       " 32,\n",
       " 132,\n",
       " 6,\n",
       " 109,\n",
       " 15,\n",
       " 17,\n",
       " 12]"
      ]
     },
     "execution_count": 3,
     "metadata": {},
     "output_type": "execute_result"
    }
   ],
   "source": [
    "train_data[0]"
   ]
  },
  {
   "cell_type": "code",
   "execution_count": 4,
   "id": "d2b9b59e",
   "metadata": {},
   "outputs": [],
   "source": [
    "# vectorize the data\n",
    "import numpy as np\n",
    "\n",
    "#One-hot encode your lists to turn them into vectors of 0s and 1s.\n",
    "def vectorize_sequences(sequences, dimension=10000):\n",
    "    results = np.zeros((len(sequences), dimension))\n",
    "    for i, sequence in enumerate(sequences):\n",
    "        results[i, sequence] = 1\n",
    "    return results\n",
    "\n",
    "x_train = vectorize_sequences(train_data)\n",
    "x_test = vectorize_sequences(test_data)"
   ]
  },
  {
   "cell_type": "code",
   "execution_count": 5,
   "id": "8f6a618d",
   "metadata": {},
   "outputs": [],
   "source": [
    "#vectorize the labels\n",
    "from keras.utils.np_utils import to_categorical\n",
    "\n",
    "one_hot_train_labels = to_categorical(train_labels)\n",
    "one_hot_test_labels = to_categorical(test_labels)"
   ]
  },
  {
   "cell_type": "code",
   "execution_count": 8,
   "id": "31a0d974",
   "metadata": {},
   "outputs": [],
   "source": [
    "#model definition\n",
    "\n",
    "from keras import models\n",
    "from keras import layers\n",
    "\n",
    "model = models.Sequential()\n",
    "model.add(layers.Dense(64, activation='relu',input_shape=(10000,)))\n",
    "model.add(layers.Dense(64, activation='relu'))\n",
    "model.add(layers.Dense(46, activation='softmax'))"
   ]
  },
  {
   "cell_type": "markdown",
   "id": "42c647b3",
   "metadata": {},
   "source": [
    "There are two things you should note about this architecture: \n",
    "\n",
    " You end the network with a Dense layer of size 46. This means for each input sample, the network will output a 46-dimensional vector. Each entry in this vector (each dimension) will encode a different output class.<br>\n",
    " The last layer uses a softmax activation. It means the network will output a probability distribution over the 46 different output classes—for every input sample, the network will produce a 46dimensional output vector, where output[i] is the probability that the sample\n",
    "belongs to class i. The 46 scores will sum to 1."
   ]
  },
  {
   "cell_type": "markdown",
   "id": "74109fa5",
   "metadata": {},
   "source": [
    "The best loss function to use in this case is **categorical_crossentropy**. It measures the distance between two probability distributions: here, between the probability distribution output by the network and the true distribution of the labels. By minimizing the distance between these two distributions, you train the network to output some-\n",
    "thing as close as possible to the true labels"
   ]
  },
  {
   "cell_type": "code",
   "execution_count": 9,
   "id": "8f444d92",
   "metadata": {},
   "outputs": [],
   "source": [
    "#compiling the model\n",
    "model.compile(optimizer='rmsprop',\n",
    "              loss='categorical_crossentropy',\n",
    "              metrics=['accuracy']\n",
    "             )"
   ]
  },
  {
   "cell_type": "code",
   "execution_count": 10,
   "id": "2aede5b1",
   "metadata": {},
   "outputs": [],
   "source": [
    "#setting aside a validation set\n",
    "x_val = x_train[:1000]\n",
    "partial_x_train = x_train[1000:]\n",
    "\n",
    "y_val = one_hot_train_labels[:1000]\n",
    "partial_y_train = one_hot_train_labels[1000:]"
   ]
  },
  {
   "cell_type": "code",
   "execution_count": 11,
   "id": "74a5858a",
   "metadata": {},
   "outputs": [
    {
     "name": "stdout",
     "output_type": "stream",
     "text": [
      "Epoch 1/20\n",
      "16/16 [==============================] - 4s 129ms/step - loss: 2.7024 - accuracy: 0.4838 - val_loss: 1.8195 - val_accuracy: 0.6300\n",
      "Epoch 2/20\n",
      "16/16 [==============================] - 1s 57ms/step - loss: 1.5182 - accuracy: 0.6878 - val_loss: 1.3527 - val_accuracy: 0.7010\n",
      "Epoch 3/20\n",
      "16/16 [==============================] - 1s 52ms/step - loss: 1.1514 - accuracy: 0.7423 - val_loss: 1.1700 - val_accuracy: 0.7350\n",
      "Epoch 4/20\n",
      "16/16 [==============================] - 1s 55ms/step - loss: 0.9371 - accuracy: 0.7903 - val_loss: 1.0691 - val_accuracy: 0.7760\n",
      "Epoch 5/20\n",
      "16/16 [==============================] - 1s 54ms/step - loss: 0.7781 - accuracy: 0.8340 - val_loss: 1.0027 - val_accuracy: 0.7820\n",
      "Epoch 6/20\n",
      "16/16 [==============================] - 1s 53ms/step - loss: 0.6417 - accuracy: 0.8634 - val_loss: 0.9609 - val_accuracy: 0.7930\n",
      "Epoch 7/20\n",
      "16/16 [==============================] - 1s 54ms/step - loss: 0.5377 - accuracy: 0.8877 - val_loss: 0.9140 - val_accuracy: 0.8090\n",
      "Epoch 8/20\n",
      "16/16 [==============================] - 1s 50ms/step - loss: 0.4513 - accuracy: 0.9073 - val_loss: 0.8852 - val_accuracy: 0.8140\n",
      "Epoch 9/20\n",
      "16/16 [==============================] - 1s 51ms/step - loss: 0.3780 - accuracy: 0.9202 - val_loss: 0.9175 - val_accuracy: 0.8040\n",
      "Epoch 10/20\n",
      "16/16 [==============================] - 1s 50ms/step - loss: 0.3216 - accuracy: 0.9322 - val_loss: 0.9083 - val_accuracy: 0.8090\n",
      "Epoch 11/20\n",
      "16/16 [==============================] - 1s 53ms/step - loss: 0.2822 - accuracy: 0.9402 - val_loss: 0.9051 - val_accuracy: 0.8170\n",
      "Epoch 12/20\n",
      "16/16 [==============================] - 1s 52ms/step - loss: 0.2484 - accuracy: 0.9455 - val_loss: 0.9252 - val_accuracy: 0.8090\n",
      "Epoch 13/20\n",
      "16/16 [==============================] - 1s 52ms/step - loss: 0.2195 - accuracy: 0.9501 - val_loss: 0.9473 - val_accuracy: 0.8070\n",
      "Epoch 14/20\n",
      "16/16 [==============================] - 1s 54ms/step - loss: 0.1995 - accuracy: 0.9505 - val_loss: 0.9308 - val_accuracy: 0.8170\n",
      "Epoch 15/20\n",
      "16/16 [==============================] - 1s 53ms/step - loss: 0.1820 - accuracy: 0.9516 - val_loss: 0.9131 - val_accuracy: 0.8160\n",
      "Epoch 16/20\n",
      "16/16 [==============================] - 1s 52ms/step - loss: 0.1695 - accuracy: 0.9516 - val_loss: 0.9525 - val_accuracy: 0.8050\n",
      "Epoch 17/20\n",
      "16/16 [==============================] - 1s 54ms/step - loss: 0.1552 - accuracy: 0.9555 - val_loss: 0.9466 - val_accuracy: 0.8180\n",
      "Epoch 18/20\n",
      "16/16 [==============================] - 1s 52ms/step - loss: 0.1476 - accuracy: 0.9559 - val_loss: 0.9951 - val_accuracy: 0.8140\n",
      "Epoch 19/20\n",
      "16/16 [==============================] - 1s 54ms/step - loss: 0.1418 - accuracy: 0.9564 - val_loss: 0.9676 - val_accuracy: 0.8140\n",
      "Epoch 20/20\n",
      "16/16 [==============================] - 1s 52ms/step - loss: 0.1330 - accuracy: 0.9564 - val_loss: 0.9934 - val_accuracy: 0.8150\n"
     ]
    }
   ],
   "source": [
    "#training the model\n",
    "history = model.fit(partial_x_train,partial_y_train,\n",
    "                    epochs=20, batch_size=512,\n",
    "                    validation_data=(x_val,y_val)\n",
    "                   )"
   ]
  },
  {
   "cell_type": "code",
   "execution_count": 12,
   "id": "23099980",
   "metadata": {},
   "outputs": [
    {
     "data": {
      "image/png": "[encoded data removed]",
      "text/plain": [
       "<Figure size 640x480 with 1 Axes>"
      ]
     },
     "metadata": {},
     "output_type": "display_data"
    }
   ],
   "source": [
    "#plotting the training and validation loss\n",
    "import matplotlib.pyplot as plt\n",
    "\n",
    "history_dict = history.history\n",
    "loss_values = history_dict['loss']\n",
    "val_loss_values = history_dict['val_loss']\n",
    "\n",
    "epochs = range(1, 21)\n",
    "\n",
    "plt.plot(epochs, loss_values, 'bo', label='Training Loss')\n",
    "plt.plot(epochs, val_loss_values, 'b', label='Validation Loss')\n",
    "\n",
    "plt.title('Training and Validation Loss')\n",
    "plt.xlabel('Epochs')\n",
    "plt.ylabel('Loss')\n",
    "plt.legend()\n",
    "\n",
    "plt.show()"
   ]
  },
  {
   "cell_type": "code",
   "execution_count": 13,
   "id": "aedad9f5",
   "metadata": {},
   "outputs": [
    {
     "data": {
      "image/png": "[encoded data removed]",
      "text/plain": [
       "<Figure size 640x480 with 1 Axes>"
      ]
     },
     "metadata": {},
     "output_type": "display_data"
    }
   ],
   "source": [
    "#plotting the training and validation accuracy\n",
    "plt.clf() #clear figure\n",
    "\n",
    "acc_values = history_dict['accuracy']\n",
    "val_acc_values = history_dict['val_accuracy']\n",
    "\n",
    "plt.plot(epochs, acc_values, 'bo', label='Training Accuracy')\n",
    "plt.plot(epochs, val_acc_values, 'b', label='Validation Accuracy')\n",
    "\n",
    "plt.title('Training and Validation Accuracy')\n",
    "plt.xlabel('Epochs')\n",
    "plt.ylabel('Accuracy')\n",
    "plt.legend()\n",
    "\n",
    "plt.show()"
   ]
  },
  {
   "cell_type": "markdown",
   "id": "9a03ee6b",
   "metadata": {},
   "source": [
    "The network begins to overfit after nine epochs. Let’s train a new network from scratch for nine epochs and then evaluate it on the test set"
   ]
  },
  {
   "cell_type": "code",
   "execution_count": 15,
   "id": "5d02483b",
   "metadata": {},
   "outputs": [
    {
     "name": "stdout",
     "output_type": "stream",
     "text": [
      "Epoch 1/9\n",
      "16/16 [==============================] - 3s 96ms/step - loss: 2.8571 - accuracy: 0.4960 - val_loss: 1.9390 - val_accuracy: 0.6050\n",
      "Epoch 2/9\n",
      "16/16 [==============================] - 1s 60ms/step - loss: 1.6304 - accuracy: 0.6649 - val_loss: 1.4287 - val_accuracy: 0.6750\n",
      "Epoch 3/9\n",
      "16/16 [==============================] - 1s 56ms/step - loss: 1.2396 - accuracy: 0.7294 - val_loss: 1.2302 - val_accuracy: 0.7180\n",
      "Epoch 4/9\n",
      "16/16 [==============================] - 1s 54ms/step - loss: 1.0050 - accuracy: 0.7814 - val_loss: 1.0963 - val_accuracy: 0.7480\n",
      "Epoch 5/9\n",
      "16/16 [==============================] - 1s 52ms/step - loss: 0.8292 - accuracy: 0.8232 - val_loss: 1.0068 - val_accuracy: 0.7870\n",
      "Epoch 6/9\n",
      "16/16 [==============================] - 1s 53ms/step - loss: 0.6933 - accuracy: 0.8557 - val_loss: 0.9678 - val_accuracy: 0.7980\n",
      "Epoch 7/9\n",
      "16/16 [==============================] - 1s 53ms/step - loss: 0.5771 - accuracy: 0.8809 - val_loss: 0.9202 - val_accuracy: 0.8070\n",
      "Epoch 8/9\n",
      "16/16 [==============================] - 1s 53ms/step - loss: 0.4839 - accuracy: 0.9028 - val_loss: 0.8958 - val_accuracy: 0.8160\n",
      "Epoch 9/9\n",
      "16/16 [==============================] - 1s 51ms/step - loss: 0.4081 - accuracy: 0.9193 - val_loss: 0.8691 - val_accuracy: 0.8270\n"
     ]
    }
   ],
   "source": [
    "model = models.Sequential()\n",
    "model.add(layers.Dense(64, activation='relu', input_shape=(10000,)))\n",
    "model.add(layers.Dense(64, activation='relu'))\n",
    "model.add(layers.Dense(46, activation='softmax'))\n",
    "\n",
    "model.compile(optimizer='rmsprop',\n",
    "              loss='categorical_crossentropy',\n",
    "              metrics=['accuracy']\n",
    "             )\n",
    "\n",
    "history = model.fit(partial_x_train, partial_y_train,\n",
    "                    epochs=9, batch_size=512,\n",
    "                    validation_data=(x_val,y_val)\n",
    "                    )"
   ]
  },
  {
   "cell_type": "code",
   "execution_count": 16,
   "id": "866ed3b6",
   "metadata": {},
   "outputs": [
    {
     "name": "stdout",
     "output_type": "stream",
     "text": [
      "71/71 [==============================] - 1s 6ms/step - loss: 0.9470 - accuracy: 0.7876\n"
     ]
    }
   ],
   "source": [
    "results = model.evaluate(x_test, one_hot_test_labels)"
   ]
  },
  {
   "cell_type": "code",
   "execution_count": 17,
   "id": "f0abc1c5",
   "metadata": {},
   "outputs": [
    {
     "name": "stdout",
     "output_type": "stream",
     "text": [
      "71/71 [==============================] - 1s 6ms/step\n"
     ]
    }
   ],
   "source": [
    "#predictions on new data\n",
    "predictions = model.predict(x_test)"
   ]
  },
  {
   "cell_type": "code",
   "execution_count": 18,
   "id": "5a85b29f",
   "metadata": {},
   "outputs": [
    {
     "data": {
      "text/plain": [
       "(46,)"
      ]
     },
     "execution_count": 18,
     "metadata": {},
     "output_type": "execute_result"
    }
   ],
   "source": [
    "predictions[0].shape"
   ]
  },
  {
   "cell_type": "markdown",
   "id": "77849a5c",
   "metadata": {},
   "source": [
    "The coefficients in this vector sum to 1:"
   ]
  },
  {
   "cell_type": "code",
   "execution_count": 19,
   "id": "a06c25a8",
   "metadata": {},
   "outputs": [
    {
     "data": {
      "text/plain": [
       "1.0"
      ]
     },
     "execution_count": 19,
     "metadata": {},
     "output_type": "execute_result"
    }
   ],
   "source": [
    "np.sum(predictions[0])"
   ]
  },
  {
   "cell_type": "markdown",
   "id": "914bf833",
   "metadata": {},
   "source": [
    "The largest entry is the predicted class—the class with the highest probability:"
   ]
  },
  {
   "cell_type": "code",
   "execution_count": 20,
   "id": "2823312b",
   "metadata": {},
   "outputs": [
    {
     "data": {
      "text/plain": [
       "3"
      ]
     },
     "execution_count": 20,
     "metadata": {},
     "output_type": "execute_result"
    }
   ],
   "source": [
    "np.argmax(predictions[0])"
   ]
  },
  {
   "cell_type": "markdown",
   "id": "475036a1",
   "metadata": {},
   "source": [
    "## A different way to handle the labels and the loss"
   ]
  },
  {
   "cell_type": "markdown",
   "id": "de37634a",
   "metadata": {},
   "source": [
    "Another way to encode the labels would be to cast them as an integer tensor, like this:"
   ]
  },
  {
   "cell_type": "code",
   "execution_count": 21,
   "id": "7a89d889",
   "metadata": {},
   "outputs": [],
   "source": [
    "y_train = np.array(train_labels) \n",
    "y_test = np.array(test_labels)"
   ]
  },
  {
   "cell_type": "code",
   "execution_count": 22,
   "id": "3da5ec4c",
   "metadata": {},
   "outputs": [],
   "source": [
    "model = models.Sequential()\n",
    "model.add(layers.Dense(64, activation='relu', input_shape=(10000,)))\n",
    "model.add(layers.Dense(64, activation='relu'))\n",
    "model.add(layers.Dense(46, activation='softmax'))"
   ]
  },
  {
   "cell_type": "markdown",
   "id": "61baa10b",
   "metadata": {},
   "source": [
    "The only thing this approach would change is the choice of the loss function. The loss function used in listing 3.21, categorical_crossentropy, expects the labels to follow a categorical encoding. With integer labels, you should use **sparse_categorical_\n",
    "crossentropy**:"
   ]
  },
  {
   "cell_type": "code",
   "execution_count": 23,
   "id": "9508b624",
   "metadata": {},
   "outputs": [],
   "source": [
    "#compiling the model\n",
    "model.compile(optimizer='rmsprop',\n",
    "              loss='sparse_categorical_crossentropy',\n",
    "              metrics=['accuracy']\n",
    "             )"
   ]
  },
  {
   "cell_type": "code",
   "execution_count": 24,
   "id": "3bcb58f5",
   "metadata": {},
   "outputs": [],
   "source": [
    "#setting aside a validation set\n",
    "x_val = x_train[:1000]\n",
    "partial_x_train = x_train[1000:]\n",
    "\n",
    "y_val = y_train[:1000]\n",
    "partial_y_train = y_train[1000:]"
   ]
  },
  {
   "cell_type": "code",
   "execution_count": 25,
   "id": "a3118f4b",
   "metadata": {},
   "outputs": [
    {
     "name": "stdout",
     "output_type": "stream",
     "text": [
      "Epoch 1/9\n",
      "16/16 [==============================] - 3s 89ms/step - loss: 2.8813 - accuracy: 0.4811 - val_loss: 1.9521 - val_accuracy: 0.6340\n",
      "Epoch 2/9\n",
      "16/16 [==============================] - 1s 55ms/step - loss: 1.5924 - accuracy: 0.6812 - val_loss: 1.3806 - val_accuracy: 0.7000\n",
      "Epoch 3/9\n",
      "16/16 [==============================] - 1s 52ms/step - loss: 1.1748 - accuracy: 0.7444 - val_loss: 1.1843 - val_accuracy: 0.7370\n",
      "Epoch 4/9\n",
      "16/16 [==============================] - 1s 57ms/step - loss: 0.9577 - accuracy: 0.7983 - val_loss: 1.0995 - val_accuracy: 0.7530\n",
      "Epoch 5/9\n",
      "16/16 [==============================] - 1s 54ms/step - loss: 0.8089 - accuracy: 0.8246 - val_loss: 1.0292 - val_accuracy: 0.7810\n",
      "Epoch 6/9\n",
      "16/16 [==============================] - 1s 58ms/step - loss: 0.6792 - accuracy: 0.8564 - val_loss: 0.9510 - val_accuracy: 0.8000\n",
      "Epoch 7/9\n",
      "16/16 [==============================] - 1s 55ms/step - loss: 0.5751 - accuracy: 0.8770 - val_loss: 0.9194 - val_accuracy: 0.8080\n",
      "Epoch 8/9\n",
      "16/16 [==============================] - 1s 54ms/step - loss: 0.4851 - accuracy: 0.8999 - val_loss: 0.9239 - val_accuracy: 0.8070\n",
      "Epoch 9/9\n",
      "16/16 [==============================] - 1s 52ms/step - loss: 0.4140 - accuracy: 0.9151 - val_loss: 0.9037 - val_accuracy: 0.8060\n"
     ]
    }
   ],
   "source": [
    "#training the model\n",
    "history = model.fit(partial_x_train,partial_y_train,\n",
    "                    epochs=9, batch_size=512,\n",
    "                    validation_data=(x_val,y_val)\n",
    "                   )"
   ]
  },
  {
   "cell_type": "code",
   "execution_count": 26,
   "id": "2896061a",
   "metadata": {},
   "outputs": [
    {
     "name": "stdout",
     "output_type": "stream",
     "text": [
      "71/71 [==============================] - 1s 6ms/step - loss: 0.9576 - accuracy: 0.7845\n"
     ]
    }
   ],
   "source": [
    "results = model.evaluate(x_test, y_test)"
   ]
  },
  {
   "cell_type": "code",
   "execution_count": 27,
   "id": "7fbd7811",
   "metadata": {},
   "outputs": [
    {
     "name": "stdout",
     "output_type": "stream",
     "text": [
      "71/71 [==============================] - 1s 6ms/step\n"
     ]
    }
   ],
   "source": [
    "#predictions on new data\n",
    "predictions = model.predict(x_test)"
   ]
  },
  {
   "cell_type": "code",
   "execution_count": 30,
   "id": "574a3153",
   "metadata": {},
   "outputs": [
    {
     "data": {
      "text/plain": [
       "(46,)"
      ]
     },
     "execution_count": 30,
     "metadata": {},
     "output_type": "execute_result"
    }
   ],
   "source": [
    "predictions[0].shape"
   ]
  },
  {
   "cell_type": "code",
   "execution_count": 31,
   "id": "79fce282",
   "metadata": {},
   "outputs": [
    {
     "data": {
      "text/plain": [
       "3"
      ]
     },
     "execution_count": 31,
     "metadata": {},
     "output_type": "execute_result"
    }
   ],
   "source": [
    "np.argmax(predictions[0])"
   ]
  },
  {
   "cell_type": "markdown",
   "id": "cdef1e55",
   "metadata": {},
   "source": [
    "**Here’s what you should take away from this example:** \n",
    "\n",
    " If you’re trying to classify data points among N classes, your network should end with a Dense layer of size N.<br>\n",
    " In a single-label, multiclass classification problem, your network should end with a softmax activation so that it will output a probability distribution over the N output classes.<br>\n",
    " Categorical crossentropy is almost always the loss function you should use for such problems. It minimizes the distance between the probability distributions output by the network and the true distribution of the targets.<br>\n",
    " There are two ways to handle labels in multiclass classification: – Encoding the labels via categorical encoding (also known as one-hot encoding) and using categorical_crossentropy as a loss function\n",
    "– Encoding the labels as integers and using the sparse_categorical_crossentropy loss function<br>\n",
    " If you need to classify data into a large number of categories, you should avoid creating information bottlenecks in your network due to intermediate layers\n",
    "that are too small."
   ]
  }
 ],
 "metadata": {
  "kernelspec": {
   "display_name": "Python 3 (ipykernel)",
   "language": "python",
   "name": "python3"
  },
  "language_info": {
   "codemirror_mode": {
    "name": "ipython",
    "version": 3
   },
   "file_extension": ".py",
   "mimetype": "text/x-python",
   "name": "python",
   "nbconvert_exporter": "python",
   "pygments_lexer": "ipython3",
   "version": "3.9.16"
  }
 },
 "nbformat": 4,
 "nbformat_minor": 5
}
