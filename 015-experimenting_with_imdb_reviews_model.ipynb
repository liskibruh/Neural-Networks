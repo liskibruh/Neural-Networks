{
 "cells": [
  {
   "cell_type": "code",
   "execution_count": 1,
   "id": "55e2444b",
   "metadata": {},
   "outputs": [],
   "source": [
    "from keras.datasets import imdb\n",
    "\n",
    "(train_data, train_labels), (test_data, test_labels) = imdb.load_data(num_words=10000)"
   ]
  },
  {
   "cell_type": "code",
   "execution_count": 2,
   "id": "3ae3f5dc",
   "metadata": {},
   "outputs": [],
   "source": [
    "# preparing the data\n",
    "import numpy as np\n",
    "\n",
    "#One-hot encode your lists to turn them into vectors of 0s and 1s.\n",
    "def vectorize_sequences(sequences, dimension=10000):\n",
    "    results = np.zeros((len(sequences), dimension))\n",
    "    for i, sequence in enumerate(sequences):\n",
    "        results[i, sequence] = 1\n",
    "    return results\n",
    "\n",
    "x_train = vectorize_sequences(train_data)\n",
    "x_test = vectorize_sequences(test_data)"
   ]
  },
  {
   "cell_type": "code",
   "execution_count": 3,
   "id": "301d63f3",
   "metadata": {},
   "outputs": [],
   "source": [
    "#vectorize your labels\n",
    "\n",
    "y_train = np.asarray(train_labels).astype('float32')\n",
    "y_test = np.asarray(test_labels).astype('float32')"
   ]
  },
  {
   "cell_type": "code",
   "execution_count": 4,
   "id": "e5fd52e0",
   "metadata": {},
   "outputs": [],
   "source": [
    "#validation data\n",
    "x_val = x_train[:10000] #first 10000 elements\n",
    "partial_x_train = x_train[10000:] #all the elements above 10000th element\n",
    "\n",
    "y_val = y_train[:10000]\n",
    "partial_y_train = y_train[10000:]"
   ]
  },
  {
   "cell_type": "markdown",
   "id": "73a10a7d",
   "metadata": {},
   "source": [
    "## Lets try two hidden layers"
   ]
  },
  {
   "cell_type": "code",
   "execution_count": 5,
   "id": "b81cc9e8",
   "metadata": {},
   "outputs": [],
   "source": [
    "#building your model\n",
    "#last time i used 1 hidden layer, lets try using 2 or 3 hidden layers\n",
    "from keras import models\n",
    "from keras import layers\n",
    "\n",
    "model = models.Sequential()\n",
    "model.add(layers.Dense(16, activation='relu', input_shape=(10000,)))\n",
    "model.add(layers.Dense(16, activation='relu'))\n",
    "model.add(layers.Dense(16, activation='relu'))\n",
    "model.add(layers.Dense(1, activation='sigmoid'))"
   ]
  },
  {
   "cell_type": "code",
   "execution_count": 6,
   "id": "39143dac",
   "metadata": {},
   "outputs": [],
   "source": [
    "model.compile(optimizer='rmsprop', loss='binary_crossentropy', metrics=['accuracy'])"
   ]
  },
  {
   "cell_type": "code",
   "execution_count": 7,
   "id": "59ff086f",
   "metadata": {},
   "outputs": [
    {
     "name": "stdout",
     "output_type": "stream",
     "text": [
      "Epoch 1/4\n",
      "30/30 [==============================] - 5s 150ms/step - loss: 0.5667 - accuracy: 0.7371 - val_loss: 0.4397 - val_accuracy: 0.8515\n",
      "Epoch 2/4\n",
      "30/30 [==============================] - 1s 20ms/step - loss: 0.3583 - accuracy: 0.8833 - val_loss: 0.3217 - val_accuracy: 0.8877\n",
      "Epoch 3/4\n",
      "30/30 [==============================] - 1s 20ms/step - loss: 0.2504 - accuracy: 0.9199 - val_loss: 0.3514 - val_accuracy: 0.8557\n",
      "Epoch 4/4\n",
      "30/30 [==============================] - 1s 21ms/step - loss: 0.2017 - accuracy: 0.9327 - val_loss: 0.2803 - val_accuracy: 0.8886\n"
     ]
    }
   ],
   "source": [
    "history= model.fit(partial_x_train, partial_y_train,\n",
    "                 epochs=4, batch_size=512,\n",
    "                 validation_data=(x_val,y_val))"
   ]
  },
  {
   "cell_type": "code",
   "execution_count": 8,
   "id": "b7fef695",
   "metadata": {},
   "outputs": [
    {
     "name": "stdout",
     "output_type": "stream",
     "text": [
      "782/782 [==============================] - 2s 2ms/step - loss: 0.2947 - accuracy: 0.8837\n"
     ]
    },
    {
     "data": {
      "text/plain": [
       "[0.2946679890155792, 0.883679986000061]"
      ]
     },
     "execution_count": 8,
     "metadata": {},
     "output_type": "execute_result"
    }
   ],
   "source": [
    "results = model.evaluate(x_test,y_test)\n",
    "results"
   ]
  },
  {
   "cell_type": "markdown",
   "id": "1c512395",
   "metadata": {},
   "source": [
    "Notice that during our previous approach (1 hidden layer) the accuracy was 0.9976, this time its 0.997. So there isn't much difference in the accuracy. But the validation loss this time is a little higher than last time. Lets plot the accuracy and validation curves"
   ]
  },
  {
   "cell_type": "code",
   "execution_count": 9,
   "id": "02f4590d",
   "metadata": {},
   "outputs": [
    {
     "data": {
      "text/plain": [
       "dict_keys(['loss', 'accuracy', 'val_loss', 'val_accuracy'])"
      ]
     },
     "execution_count": 9,
     "metadata": {},
     "output_type": "execute_result"
    }
   ],
   "source": [
    "history_dict=history.history\n",
    "history_dict.keys()"
   ]
  },
  {
   "cell_type": "markdown",
   "id": "603ec079",
   "metadata": {},
   "source": [
    "## Let's change the number of hidden units to 32"
   ]
  },
  {
   "cell_type": "code",
   "execution_count": 10,
   "id": "51c01d3b",
   "metadata": {},
   "outputs": [],
   "source": [
    "model = models.Sequential()\n",
    "model.add(layers.Dense(32, activation='relu', input_shape=(10000,)))\n",
    "model.add(layers.Dense(32, activation='relu'))\n",
    "model.add(layers.Dense(1, activation='sigmoid'))"
   ]
  },
  {
   "cell_type": "code",
   "execution_count": 11,
   "id": "d5a871a1",
   "metadata": {},
   "outputs": [],
   "source": [
    "model.compile(optimizer='rmsprop', loss='binary_crossentropy', metrics=['accuracy'])"
   ]
  },
  {
   "cell_type": "code",
   "execution_count": 12,
   "id": "e109caaa",
   "metadata": {},
   "outputs": [
    {
     "name": "stdout",
     "output_type": "stream",
     "text": [
      "Epoch 1/4\n",
      "30/30 [==============================] - 5s 137ms/step - loss: 0.5083 - accuracy: 0.7820 - val_loss: 0.3830 - val_accuracy: 0.8564\n",
      "Epoch 2/4\n",
      "30/30 [==============================] - 1s 25ms/step - loss: 0.3053 - accuracy: 0.8941 - val_loss: 0.3142 - val_accuracy: 0.8740\n",
      "Epoch 3/4\n",
      "30/30 [==============================] - 1s 27ms/step - loss: 0.2299 - accuracy: 0.9196 - val_loss: 0.2845 - val_accuracy: 0.8866\n",
      "Epoch 4/4\n",
      "30/30 [==============================] - 1s 21ms/step - loss: 0.1865 - accuracy: 0.9339 - val_loss: 0.2884 - val_accuracy: 0.8844\n"
     ]
    }
   ],
   "source": [
    "history= model.fit(partial_x_train, partial_y_train,\n",
    "                 epochs=4, batch_size=512,\n",
    "                 validation_data=(x_val,y_val))"
   ]
  },
  {
   "cell_type": "code",
   "execution_count": 13,
   "id": "102d6566",
   "metadata": {},
   "outputs": [
    {
     "name": "stdout",
     "output_type": "stream",
     "text": [
      "782/782 [==============================] - 2s 2ms/step - loss: 0.3003 - accuracy: 0.8786\n"
     ]
    },
    {
     "data": {
      "text/plain": [
       "[0.3002668023109436, 0.8785600066184998]"
      ]
     },
     "execution_count": 13,
     "metadata": {},
     "output_type": "execute_result"
    }
   ],
   "source": [
    "results = model.evaluate(x_test,y_test)\n",
    "results"
   ]
  },
  {
   "cell_type": "markdown",
   "id": "d2235091",
   "metadata": {},
   "source": [
    "## Let's use mse loss function"
   ]
  },
  {
   "cell_type": "code",
   "execution_count": 14,
   "id": "1c375382",
   "metadata": {},
   "outputs": [],
   "source": [
    "model = models.Sequential()\n",
    "model.add(layers.Dense(16, activation='relu', input_shape=(10000,)))\n",
    "model.add(layers.Dense(16, activation='relu'))\n",
    "model.add(layers.Dense(1, activation='sigmoid'))"
   ]
  },
  {
   "cell_type": "code",
   "execution_count": 15,
   "id": "6dfc4e90",
   "metadata": {},
   "outputs": [],
   "source": [
    "model.compile(optimizer='rmsprop', loss='mse', metrics=['accuracy'])"
   ]
  },
  {
   "cell_type": "code",
   "execution_count": 16,
   "id": "aba42d12",
   "metadata": {},
   "outputs": [
    {
     "name": "stdout",
     "output_type": "stream",
     "text": [
      "Epoch 1/4\n",
      "30/30 [==============================] - 5s 140ms/step - loss: 0.1835 - accuracy: 0.7767 - val_loss: 0.1335 - val_accuracy: 0.8613\n",
      "Epoch 2/4\n",
      "30/30 [==============================] - 1s 21ms/step - loss: 0.1075 - accuracy: 0.8859 - val_loss: 0.1206 - val_accuracy: 0.8378\n",
      "Epoch 3/4\n",
      "30/30 [==============================] - 1s 19ms/step - loss: 0.0810 - accuracy: 0.9115 - val_loss: 0.0926 - val_accuracy: 0.8831\n",
      "Epoch 4/4\n",
      "30/30 [==============================] - 1s 18ms/step - loss: 0.0659 - accuracy: 0.9275 - val_loss: 0.0858 - val_accuracy: 0.8890\n"
     ]
    }
   ],
   "source": [
    "history= model.fit(partial_x_train, partial_y_train,\n",
    "                 epochs=4, batch_size=512,\n",
    "                 validation_data=(x_val,y_val))"
   ]
  },
  {
   "cell_type": "code",
   "execution_count": 17,
   "id": "60d97530",
   "metadata": {},
   "outputs": [
    {
     "name": "stdout",
     "output_type": "stream",
     "text": [
      "782/782 [==============================] - 2s 2ms/step - loss: 0.0893 - accuracy: 0.8839\n"
     ]
    },
    {
     "data": {
      "text/plain": [
       "[0.08931127190589905, 0.8838800191879272]"
      ]
     },
     "execution_count": 17,
     "metadata": {},
     "output_type": "execute_result"
    }
   ],
   "source": [
    "results = model.evaluate(x_test,y_test)\n",
    "results"
   ]
  },
  {
   "cell_type": "markdown",
   "id": "904512c7",
   "metadata": {},
   "source": [
    "## Lets use tanh activation"
   ]
  },
  {
   "cell_type": "code",
   "execution_count": 20,
   "id": "2232f9c1",
   "metadata": {},
   "outputs": [],
   "source": [
    "model = models.Sequential()\n",
    "model.add(layers.Dense(16, activation='tanh', input_shape=(10000,)))\n",
    "model.add(layers.Dense(16, activation='tanh'))\n",
    "model.add(layers.Dense(1, activation='sigmoid'))"
   ]
  },
  {
   "cell_type": "code",
   "execution_count": 21,
   "id": "a40f943e",
   "metadata": {},
   "outputs": [],
   "source": [
    "model.compile(optimizer='rmsprop', loss='binary_crossentropy', metrics=['accuracy'])"
   ]
  },
  {
   "cell_type": "code",
   "execution_count": 22,
   "id": "5ebc82bf",
   "metadata": {},
   "outputs": [
    {
     "name": "stdout",
     "output_type": "stream",
     "text": [
      "Epoch 1/4\n",
      "30/30 [==============================] - 6s 169ms/step - loss: 0.5215 - accuracy: 0.7859 - val_loss: 0.3876 - val_accuracy: 0.8679\n",
      "Epoch 2/4\n",
      "30/30 [==============================] - 1s 20ms/step - loss: 0.3145 - accuracy: 0.8948 - val_loss: 0.3077 - val_accuracy: 0.8835\n",
      "Epoch 3/4\n",
      "30/30 [==============================] - 1s 19ms/step - loss: 0.2316 - accuracy: 0.9185 - val_loss: 0.2785 - val_accuracy: 0.8872\n",
      "Epoch 4/4\n",
      "30/30 [==============================] - 1s 18ms/step - loss: 0.1786 - accuracy: 0.9397 - val_loss: 0.2774 - val_accuracy: 0.8870\n"
     ]
    }
   ],
   "source": [
    "history= model.fit(partial_x_train, partial_y_train,\n",
    "                 epochs=4, batch_size=512,\n",
    "                 validation_data=(x_val,y_val))"
   ]
  },
  {
   "cell_type": "code",
   "execution_count": 23,
   "id": "3cbfdb50",
   "metadata": {},
   "outputs": [
    {
     "name": "stdout",
     "output_type": "stream",
     "text": [
      "782/782 [==============================] - 2s 3ms/step - loss: 0.2915 - accuracy: 0.8799\n"
     ]
    },
    {
     "data": {
      "text/plain": [
       "[0.2914726734161377, 0.8798800110816956]"
      ]
     },
     "execution_count": 23,
     "metadata": {},
     "output_type": "execute_result"
    }
   ],
   "source": [
    "results = model.evaluate(x_test,y_test)\n",
    "results"
   ]
  },
  {
   "cell_type": "markdown",
   "id": "c1b072d6",
   "metadata": {},
   "source": [
    "Comparing the model evaluation scores of all the different changes that we tried:\n",
    "\n",
    "**Two hidden layers:**      [0.2946679890155792, 0.883679986000061]<br>\n",
    "**No. of hidden units 32:** [0.3002668023109436, 0.8785600066184998]<br>\n",
    "**MSE loss function:**      [0.08931127190589905, 0.8838800191879272]<br>\n",
    "**tanh activation:**        [0.2914726734161377, 0.8798800110816956]<br>\n",
    "\n",
    "we can see that the best evaluation score we got was by using MSE loass function instead of binary-crossentropy"
   ]
  }
 ],
 "metadata": {
  "kernelspec": {
   "display_name": "Python 3 (ipykernel)",
   "language": "python",
   "name": "python3"
  },
  "language_info": {
   "codemirror_mode": {
    "name": "ipython",
    "version": 3
   },
   "file_extension": ".py",
   "mimetype": "text/x-python",
   "name": "python",
   "nbconvert_exporter": "python",
   "pygments_lexer": "ipython3",
   "version": "3.9.16"
  }
 },
 "nbformat": 4,
 "nbformat_minor": 5
}
