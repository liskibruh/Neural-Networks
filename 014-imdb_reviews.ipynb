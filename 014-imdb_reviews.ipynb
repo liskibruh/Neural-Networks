{
 "cells": [
  {
   "cell_type": "code",
   "execution_count": 1,
   "id": "de4d91ed",
   "metadata": {},
   "outputs": [],
   "source": [
    "from keras.datasets import imdb\n",
    "\n",
    "(train_data, train_labels), (test_data, test_labels) = imdb.load_data(num_words=10000)"
   ]
  },
  {
   "cell_type": "markdown",
   "id": "fc90346e",
   "metadata": {},
   "source": [
    "**Each review is encoded as a list of word indexes (integers)**, it means that each movie review in the IMDB reviews dataset has been converted into a sequence of integers, where each integer represents the index of a word in a predefined dictionary. This process is also known as \"tokenization\" where each word in the review is assigned a unique integer identifier.\n",
    "\n",
    "For example, consider the following sentence:\n",
    "\n",
    "\"This movie was great, I really enjoyed it!\"\n",
    "\n",
    "To encode this sentence as a list of word indexes, we would first need to tokenize it by splitting it into individual words and assigning each word a unique integer identifier:\n",
    "\n",
    "{\"This\": 1, \"movie\": 2, \"was\": 3, \"great\": 4, \"I\": 5, \"really\": 6, \"enjoyed\": 7, \"it\": 8}\n",
    "\n",
    "Then, we would replace each word in the original sentence with its corresponding integer identifier to create a list of word indexes:\n",
    "\n",
    "[1, 2, 3, 4, 5, 6, 7, 8]\n",
    "\n",
    "This list represents the encoded version of the original sentence and can be used as input to a neural network for sentiment analysis. The IMDB reviews dataset contains 25,000 such encoded reviews where each review is represented as a sequence of integers."
   ]
  },
  {
   "cell_type": "code",
   "execution_count": 2,
   "id": "0c067a44",
   "metadata": {
    "scrolled": true
   },
   "outputs": [
    {
     "data": {
      "text/plain": [
       "[1,\n",
       " 14,\n",
       " 22,\n",
       " 16,\n",
       " 43,\n",
       " 530,\n",
       " 973,\n",
       " 1622,\n",
       " 1385,\n",
       " 65,\n",
       " 458,\n",
       " 4468,\n",
       " 66,\n",
       " 3941,\n",
       " 4,\n",
       " 173,\n",
       " 36,\n",
       " 256,\n",
       " 5,\n",
       " 25,\n",
       " 100,\n",
       " 43,\n",
       " 838,\n",
       " 112,\n",
       " 50,\n",
       " 670,\n",
       " 2,\n",
       " 9,\n",
       " 35,\n",
       " 480,\n",
       " 284,\n",
       " 5,\n",
       " 150,\n",
       " 4,\n",
       " 172,\n",
       " 112,\n",
       " 167,\n",
       " 2,\n",
       " 336,\n",
       " 385,\n",
       " 39,\n",
       " 4,\n",
       " 172,\n",
       " 4536,\n",
       " 1111,\n",
       " 17,\n",
       " 546,\n",
       " 38,\n",
       " 13,\n",
       " 447,\n",
       " 4,\n",
       " 192,\n",
       " 50,\n",
       " 16,\n",
       " 6,\n",
       " 147,\n",
       " 2025,\n",
       " 19,\n",
       " 14,\n",
       " 22,\n",
       " 4,\n",
       " 1920,\n",
       " 4613,\n",
       " 469,\n",
       " 4,\n",
       " 22,\n",
       " 71,\n",
       " 87,\n",
       " 12,\n",
       " 16,\n",
       " 43,\n",
       " 530,\n",
       " 38,\n",
       " 76,\n",
       " 15,\n",
       " 13,\n",
       " 1247,\n",
       " 4,\n",
       " 22,\n",
       " 17,\n",
       " 515,\n",
       " 17,\n",
       " 12,\n",
       " 16,\n",
       " 626,\n",
       " 18,\n",
       " 2,\n",
       " 5,\n",
       " 62,\n",
       " 386,\n",
       " 12,\n",
       " 8,\n",
       " 316,\n",
       " 8,\n",
       " 106,\n",
       " 5,\n",
       " 4,\n",
       " 2223,\n",
       " 5244,\n",
       " 16,\n",
       " 480,\n",
       " 66,\n",
       " 3785,\n",
       " 33,\n",
       " 4,\n",
       " 130,\n",
       " 12,\n",
       " 16,\n",
       " 38,\n",
       " 619,\n",
       " 5,\n",
       " 25,\n",
       " 124,\n",
       " 51,\n",
       " 36,\n",
       " 135,\n",
       " 48,\n",
       " 25,\n",
       " 1415,\n",
       " 33,\n",
       " 6,\n",
       " 22,\n",
       " 12,\n",
       " 215,\n",
       " 28,\n",
       " 77,\n",
       " 52,\n",
       " 5,\n",
       " 14,\n",
       " 407,\n",
       " 16,\n",
       " 82,\n",
       " 2,\n",
       " 8,\n",
       " 4,\n",
       " 107,\n",
       " 117,\n",
       " 5952,\n",
       " 15,\n",
       " 256,\n",
       " 4,\n",
       " 2,\n",
       " 7,\n",
       " 3766,\n",
       " 5,\n",
       " 723,\n",
       " 36,\n",
       " 71,\n",
       " 43,\n",
       " 530,\n",
       " 476,\n",
       " 26,\n",
       " 400,\n",
       " 317,\n",
       " 46,\n",
       " 7,\n",
       " 4,\n",
       " 2,\n",
       " 1029,\n",
       " 13,\n",
       " 104,\n",
       " 88,\n",
       " 4,\n",
       " 381,\n",
       " 15,\n",
       " 297,\n",
       " 98,\n",
       " 32,\n",
       " 2071,\n",
       " 56,\n",
       " 26,\n",
       " 141,\n",
       " 6,\n",
       " 194,\n",
       " 7486,\n",
       " 18,\n",
       " 4,\n",
       " 226,\n",
       " 22,\n",
       " 21,\n",
       " 134,\n",
       " 476,\n",
       " 26,\n",
       " 480,\n",
       " 5,\n",
       " 144,\n",
       " 30,\n",
       " 5535,\n",
       " 18,\n",
       " 51,\n",
       " 36,\n",
       " 28,\n",
       " 224,\n",
       " 92,\n",
       " 25,\n",
       " 104,\n",
       " 4,\n",
       " 226,\n",
       " 65,\n",
       " 16,\n",
       " 38,\n",
       " 1334,\n",
       " 88,\n",
       " 12,\n",
       " 16,\n",
       " 283,\n",
       " 5,\n",
       " 16,\n",
       " 4472,\n",
       " 113,\n",
       " 103,\n",
       " 32,\n",
       " 15,\n",
       " 16,\n",
       " 5345,\n",
       " 19,\n",
       " 178,\n",
       " 32]"
      ]
     },
     "execution_count": 2,
     "metadata": {},
     "output_type": "execute_result"
    }
   ],
   "source": [
    "train_data[0]"
   ]
  },
  {
   "cell_type": "markdown",
   "id": "a5e34dab",
   "metadata": {},
   "source": [
    "train_labels and test_labels are lists of 0s and 1s, where 0 stands for negative and 1 stands for positive:"
   ]
  },
  {
   "cell_type": "code",
   "execution_count": 3,
   "id": "45cd6a43",
   "metadata": {},
   "outputs": [
    {
     "data": {
      "text/plain": [
       "1"
      ]
     },
     "execution_count": 3,
     "metadata": {},
     "output_type": "execute_result"
    }
   ],
   "source": [
    "train_labels[0]"
   ]
  },
  {
   "cell_type": "markdown",
   "id": "d01eb488",
   "metadata": {},
   "source": [
    "**Convert the review to a one-hot encoded vector:** We can convert the review to a one-hot encoded vector using the word indices we just created. We create a binary vector of length len(vocab), where each element is 0, except for the index corresponding to each word in the review, which is set to 1."
   ]
  },
  {
   "cell_type": "code",
   "execution_count": 4,
   "id": "b97a37f4",
   "metadata": {},
   "outputs": [],
   "source": [
    "# preparing the data\n",
    "import numpy as np\n",
    "\n",
    "#One-hot encode your lists to turn them into vectors of 0s and 1s.\n",
    "def vectorize_sequences(sequences, dimension=10000):\n",
    "    results = np.zeros((len(sequences), dimension))\n",
    "    for i, sequence in enumerate(sequences):\n",
    "        results[i, sequence] = 1\n",
    "    return results\n",
    "\n",
    "x_train = vectorize_sequences(train_data)\n",
    "x_test = vectorize_sequences(test_data)"
   ]
  },
  {
   "cell_type": "markdown",
   "id": "68c0486a",
   "metadata": {},
   "source": [
    "The intuition behind one-hot encoding each review is to convert the numerical representation of each word or token in the review into a vector of 0s and 1s, where each element in the vector corresponds to a specific word or token in the vocabulary.\n",
    "\n",
    "One-hot encoding allows the machine learning algorithm to treat each word or token as a separate feature, which can help capture the relationship between different words in the review and ultimately improve the performance of the model."
   ]
  },
  {
   "cell_type": "code",
   "execution_count": 5,
   "id": "1d91de7a",
   "metadata": {},
   "outputs": [
    {
     "data": {
      "text/plain": [
       "array([0., 1., 1., ..., 0., 0., 0.])"
      ]
     },
     "execution_count": 5,
     "metadata": {},
     "output_type": "execute_result"
    }
   ],
   "source": [
    "x_train[0]"
   ]
  },
  {
   "cell_type": "code",
   "execution_count": 6,
   "id": "a92a53f3",
   "metadata": {},
   "outputs": [],
   "source": [
    "#vectorize your labels\n",
    "\n",
    "y_train = np.asarray(train_labels).astype('float32')\n",
    "y_test = np.asarray(test_labels).astype('float32')"
   ]
  },
  {
   "cell_type": "code",
   "execution_count": 7,
   "id": "2c424f63",
   "metadata": {},
   "outputs": [],
   "source": [
    "#building your network\n",
    "from keras import models\n",
    "from keras import layers\n",
    "\n",
    "model = models.Sequential()\n",
    "model.add(layers.Dense(16, activation='relu', input_shape=(10000,)))\n",
    "model.add(layers.Dense(16, activation='relu'))\n",
    "model.add(layers.Dense(1, activation='sigmoid'))"
   ]
  },
  {
   "cell_type": "markdown",
   "id": "44d04b95",
   "metadata": {},
   "source": [
    "The input shape argument (10000,) in the first layer of your model indicates that the input data to the model is a one-dimensional array of length 10000. Each element in the array represents the presence or absence of a word in the vocabulary, as encoded by the one-hot encoding technique.\n",
    "\n",
    "The size of the input shape (10000,) corresponds to the size of the vocabulary. In other words, there are 10000 unique words in the vocabulary, and each word is represented by a unique element in the one-hot encoded vector. The value of each element is either 0 or 1, indicating the absence or presence of the corresponding word in the input document."
   ]
  },
  {
   "cell_type": "code",
   "execution_count": 8,
   "id": "cd8c0adc",
   "metadata": {},
   "outputs": [],
   "source": [
    "# compiling the model\n",
    "model.compile(optimizer='rmsprop', \n",
    "              loss='binary_crossentropy',\n",
    "              metrics=['accuracy']\n",
    "             )"
   ]
  },
  {
   "cell_type": "markdown",
   "id": "d4c81b52",
   "metadata": {},
   "source": [
    "Sometimes you may want to configure the parameters of your optimizer or pass a custom loss function or metric function. The former can be done by passing an optimizer class instance as the optimizer argument, the latter can be done by passing function objects as the loss and/or metrics arguments"
   ]
  },
  {
   "cell_type": "raw",
   "id": "90e1a429",
   "metadata": {},
   "source": [
    "#configuring the optimizer\n",
    "from keras import optimizers \n",
    "\n",
    "model.compile(optimizer=optimizers.RMSprop(lr=0.001),loss='binary_crossentropy',metrics=['accuracy'])"
   ]
  },
  {
   "cell_type": "raw",
   "id": "f4518c15",
   "metadata": {},
   "source": [
    "#using custom losses and metrics\n",
    "from keras import losses \n",
    "from keras import metrics\n",
    "\n",
    "model.compile(optimizer=optimizers.RMSprop(lr=0.001),loss=losses.binary_crossentropy,metrics=[metrics.binary_accuracy]"
   ]
  },
  {
   "cell_type": "markdown",
   "id": "e030f047",
   "metadata": {},
   "source": [
    "In order to monitor during training the accuracy of the model on data it has never seen before, you’ll create a validation set by setting apart 10,000 samples from the\n",
    "original training data"
   ]
  },
  {
   "cell_type": "code",
   "execution_count": 9,
   "id": "b759bbb1",
   "metadata": {},
   "outputs": [
    {
     "data": {
      "text/plain": [
       "25000"
      ]
     },
     "execution_count": 9,
     "metadata": {},
     "output_type": "execute_result"
    }
   ],
   "source": [
    "len(x_train)"
   ]
  },
  {
   "cell_type": "code",
   "execution_count": 11,
   "id": "82b8ef5d",
   "metadata": {},
   "outputs": [],
   "source": [
    "#validating your approach\n",
    "x_val = x_train[:10000] #first 10000 elements\n",
    "partial_x_train = x_train[10000:] #all the elements above 10000th element\n",
    "\n",
    "y_val = y_train[:10000]\n",
    "partial_y_train = y_train[10000:]"
   ]
  },
  {
   "cell_type": "code",
   "execution_count": 12,
   "id": "169e918f",
   "metadata": {
    "scrolled": false
   },
   "outputs": [
    {
     "name": "stdout",
     "output_type": "stream",
     "text": [
      "Epoch 1/20\n",
      "30/30 [==============================] - 12s 312ms/step - loss: 0.5155 - accuracy: 0.7744 - val_loss: 0.3819 - val_accuracy: 0.8642\n",
      "Epoch 2/20\n",
      "30/30 [==============================] - 1s 26ms/step - loss: 0.3072 - accuracy: 0.8973 - val_loss: 0.3217 - val_accuracy: 0.8739\n",
      "Epoch 3/20\n",
      "30/30 [==============================] - 1s 19ms/step - loss: 0.2301 - accuracy: 0.9215 - val_loss: 0.2831 - val_accuracy: 0.8892\n",
      "Epoch 4/20\n",
      "30/30 [==============================] - 1s 19ms/step - loss: 0.1853 - accuracy: 0.9370 - val_loss: 0.2818 - val_accuracy: 0.8850\n",
      "Epoch 5/20\n",
      "30/30 [==============================] - 1s 18ms/step - loss: 0.1582 - accuracy: 0.9465 - val_loss: 0.2909 - val_accuracy: 0.8847\n",
      "Epoch 6/20\n",
      "30/30 [==============================] - 1s 20ms/step - loss: 0.1313 - accuracy: 0.9593 - val_loss: 0.2922 - val_accuracy: 0.8826\n",
      "Epoch 7/20\n",
      "30/30 [==============================] - 1s 22ms/step - loss: 0.1111 - accuracy: 0.9663 - val_loss: 0.3091 - val_accuracy: 0.8848\n",
      "Epoch 8/20\n",
      "30/30 [==============================] - 1s 19ms/step - loss: 0.1009 - accuracy: 0.9688 - val_loss: 0.3170 - val_accuracy: 0.8797\n",
      "Epoch 9/20\n",
      "30/30 [==============================] - 1s 19ms/step - loss: 0.0818 - accuracy: 0.9773 - val_loss: 0.3751 - val_accuracy: 0.8700\n",
      "Epoch 10/20\n",
      "30/30 [==============================] - 1s 17ms/step - loss: 0.0732 - accuracy: 0.9807 - val_loss: 0.3533 - val_accuracy: 0.8750\n",
      "Epoch 11/20\n",
      "30/30 [==============================] - 1s 18ms/step - loss: 0.0617 - accuracy: 0.9835 - val_loss: 0.3710 - val_accuracy: 0.8783\n",
      "Epoch 12/20\n",
      "30/30 [==============================] - 1s 18ms/step - loss: 0.0519 - accuracy: 0.9886 - val_loss: 0.3990 - val_accuracy: 0.8777\n",
      "Epoch 13/20\n",
      "30/30 [==============================] - 1s 19ms/step - loss: 0.0452 - accuracy: 0.9900 - val_loss: 0.4127 - val_accuracy: 0.8731\n",
      "Epoch 14/20\n",
      "30/30 [==============================] - 1s 19ms/step - loss: 0.0346 - accuracy: 0.9937 - val_loss: 0.4374 - val_accuracy: 0.8749\n",
      "Epoch 15/20\n",
      "30/30 [==============================] - 1s 19ms/step - loss: 0.0320 - accuracy: 0.9941 - val_loss: 0.4584 - val_accuracy: 0.8723\n",
      "Epoch 16/20\n",
      "30/30 [==============================] - 1s 19ms/step - loss: 0.0256 - accuracy: 0.9959 - val_loss: 0.4838 - val_accuracy: 0.8724\n",
      "Epoch 17/20\n",
      "30/30 [==============================] - 1s 18ms/step - loss: 0.0248 - accuracy: 0.9951 - val_loss: 0.5036 - val_accuracy: 0.8712\n",
      "Epoch 18/20\n",
      "30/30 [==============================] - 1s 18ms/step - loss: 0.0191 - accuracy: 0.9968 - val_loss: 0.5294 - val_accuracy: 0.8717\n",
      "Epoch 19/20\n",
      "30/30 [==============================] - 1s 18ms/step - loss: 0.0119 - accuracy: 0.9995 - val_loss: 0.5920 - val_accuracy: 0.8675\n",
      "Epoch 20/20\n",
      "30/30 [==============================] - 1s 18ms/step - loss: 0.0152 - accuracy: 0.9976 - val_loss: 0.5691 - val_accuracy: 0.8690\n"
     ]
    }
   ],
   "source": [
    "#training your model\n",
    "history = model.fit(partial_x_train, partial_y_train,\n",
    "                    epochs=20,\n",
    "                    batch_size=512,\n",
    "                    validation_data=(x_val,y_val)\n",
    "                   )"
   ]
  },
  {
   "cell_type": "markdown",
   "id": "66f000e2",
   "metadata": {},
   "source": [
    "Note that the call to model.fit() returns a History object. This object has a member history, which is a dictionary containing data about everything that happened\n",
    "during training. Let’s look at it:"
   ]
  },
  {
   "cell_type": "code",
   "execution_count": 13,
   "id": "041ea8ad",
   "metadata": {},
   "outputs": [
    {
     "data": {
      "text/plain": [
       "dict_keys(['loss', 'accuracy', 'val_loss', 'val_accuracy'])"
      ]
     },
     "execution_count": 13,
     "metadata": {},
     "output_type": "execute_result"
    }
   ],
   "source": [
    "history_dict = history.history\n",
    "history_dict.keys()"
   ]
  },
  {
   "cell_type": "markdown",
   "id": "0681cbc4",
   "metadata": {},
   "source": [
    "The dictionary contains four entries: one per metric that was being monitored during training and during validation. In the following two listing, let’s use Matplotlib to plot\n",
    "the training and validation loss side by side "
   ]
  },
  {
   "cell_type": "code",
   "execution_count": 18,
   "id": "0138de5b",
   "metadata": {},
   "outputs": [
    {
     "data": {
      "image/png": "[encoded data removed]",
      "text/plain": [
       "<Figure size 640x480 with 1 Axes>"
      ]
     },
     "metadata": {},
     "output_type": "display_data"
    }
   ],
   "source": [
    "#plotting the training and validation loss\n",
    "import matplotlib.pyplot as plt\n",
    "\n",
    "history_dict = history.history\n",
    "loss_values = history_dict['loss']\n",
    "val_loss_values = history_dict['val_loss']\n",
    "\n",
    "epochs = range(1, 21)\n",
    "\n",
    "plt.plot(epochs, loss_values, 'bo', label='Training Loss')\n",
    "plt.plot(epochs, val_loss_values, 'b', label='Validation Loss')\n",
    "\n",
    "plt.title('Training and Validation Loss')\n",
    "plt.xlabel('Epochs')\n",
    "plt.ylabel('Loss')\n",
    "plt.legend()\n",
    "\n",
    "plt.show()"
   ]
  },
  {
   "cell_type": "code",
   "execution_count": 19,
   "id": "a3b34416",
   "metadata": {},
   "outputs": [
    {
     "data": {
      "image/png": "[encoded data removed]",
      "text/plain": [
       "<Figure size 640x480 with 1 Axes>"
      ]
     },
     "metadata": {},
     "output_type": "display_data"
    }
   ],
   "source": [
    "#plotting the training and validation accuracy\n",
    "plt.clf() #clear figure\n",
    "\n",
    "acc_values = history_dict['accuracy']\n",
    "val_acc_values = history_dict['val_accuracy']\n",
    "\n",
    "plt.plot(epochs, acc_values, 'bo', label='Training Accuracy')\n",
    "plt.plot(epochs, val_acc_values, 'b', label='Validation Accuracy')\n",
    "\n",
    "plt.title('Training and Validation Accuracy')\n",
    "plt.xlabel('Epochs')\n",
    "plt.ylabel('Accuracy')\n",
    "plt.legend()\n",
    "\n",
    "plt.show()"
   ]
  },
  {
   "cell_type": "markdown",
   "id": "7fded109",
   "metadata": {},
   "source": [
    "A model that performs better on the training data isn’t necessarily a model that will do better on data it has never seen before. In precise terms, what you’re seeing is overfitting: after the second epoch, you’re overoptimizing on the training data, and you end up learning representations that are specific to the training data and don’t generalize\n",
    "to data outside of the training set.\n",
    "\n",
    "In this case, to prevent overfitting, you could stop training after three epochs.\n",
    "\n",
    "**Note:** There are better ways to handle overfitting but i am going with one of the most common approach, Early Stopping.\n",
    "\n",
    "Let’s train a new network from scratch for four epochs and then evaluate it on the test data."
   ]
  },
  {
   "cell_type": "code",
   "execution_count": 23,
   "id": "9f6018ec",
   "metadata": {},
   "outputs": [
    {
     "name": "stdout",
     "output_type": "stream",
     "text": [
      "Epoch 1/4\n",
      "49/49 [==============================] - 5s 36ms/step - loss: 0.4635 - accuracy: 0.8162\n",
      "Epoch 2/4\n",
      "49/49 [==============================] - 1s 17ms/step - loss: 0.2740 - accuracy: 0.9022\n",
      "Epoch 3/4\n",
      "49/49 [==============================] - 1s 16ms/step - loss: 0.2152 - accuracy: 0.9226\n",
      "Epoch 4/4\n",
      "49/49 [==============================] - 1s 14ms/step - loss: 0.1835 - accuracy: 0.9328\n",
      "782/782 [==============================] - 3s 2ms/step - loss: 0.3169 - accuracy: 0.8724\n"
     ]
    }
   ],
   "source": [
    "#retraining model from scratch\n",
    "\n",
    "model = models.Sequential()\n",
    "model.add(layers.Dense(16, activation='relu', input_shape=(10000,)))\n",
    "model.add(layers.Dense(16, activation='relu'))\n",
    "model.add(layers.Dense(1, activation='sigmoid'))\n",
    "\n",
    "model.compile(optimizer='rmsprop',\n",
    "              loss='binary_crossentropy',\n",
    "              metrics=['accuracy']\n",
    "             )\n",
    "\n",
    "model.fit(x_train, y_train,\n",
    "          epochs=4, batch_size=512\n",
    "         )\n",
    "\n",
    "results = model.evaluate(x_test,y_test)"
   ]
  },
  {
   "cell_type": "code",
   "execution_count": 24,
   "id": "9c7087d9",
   "metadata": {},
   "outputs": [
    {
     "data": {
      "text/plain": [
       "[0.31687942147254944, 0.8723599910736084]"
      ]
     },
     "execution_count": 24,
     "metadata": {},
     "output_type": "execute_result"
    }
   ],
   "source": [
    "results"
   ]
  },
  {
   "cell_type": "markdown",
   "id": "42c22873",
   "metadata": {},
   "source": [
    "This fairly naive approach achieves an accuracy of 88%. With state-of-the-art approaches, you should be able to get close to 95%"
   ]
  },
  {
   "cell_type": "code",
   "execution_count": 25,
   "id": "24841e7d",
   "metadata": {},
   "outputs": [
    {
     "name": "stdout",
     "output_type": "stream",
     "text": [
      "782/782 [==============================] - 2s 2ms/step\n"
     ]
    },
    {
     "data": {
      "text/plain": [
       "array([[0.13475256],\n",
       "       [0.99918747],\n",
       "       [0.56421137],\n",
       "       ...,\n",
       "       [0.07328247],\n",
       "       [0.0435516 ],\n",
       "       [0.41962302]], dtype=float32)"
      ]
     },
     "execution_count": 25,
     "metadata": {},
     "output_type": "execute_result"
    }
   ],
   "source": [
    "#using a trained network to generate predictions on new data\n",
    "\n",
    "model.predict(x_test)"
   ]
  },
  {
   "cell_type": "markdown",
   "id": "d54b1efd",
   "metadata": {},
   "source": [
    "As you can see, the network is confident for some samples (0.99 or more, or 0.01 or less) but less confident for others (0.6, 0.4)"
   ]
  }
 ],
 "metadata": {
  "kernelspec": {
   "display_name": "Python 3 (ipykernel)",
   "language": "python",
   "name": "python3"
  },
  "language_info": {
   "codemirror_mode": {
    "name": "ipython",
    "version": 3
   },
   "file_extension": ".py",
   "mimetype": "text/x-python",
   "name": "python",
   "nbconvert_exporter": "python",
   "pygments_lexer": "ipython3",
   "version": "3.9.16"
  }
 },
 "nbformat": 4,
 "nbformat_minor": 5
}
